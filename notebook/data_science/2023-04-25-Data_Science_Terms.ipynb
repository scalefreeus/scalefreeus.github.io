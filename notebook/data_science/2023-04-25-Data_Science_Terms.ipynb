{
 "cells": [
  {
   "cell_type": "markdown",
   "metadata": {},
   "source": [
    "# 기본 용어"
   ]
  },
  {
   "cell_type": "markdown",
   "metadata": {},
   "source": [
    "## 변수의 타입\n",
    "<pre>\n",
    "범주형 (categorical data)\n",
    "    명목형 (nominal data)\n",
    "        숫자로 바뀌어도 그 값이 크고 작음을 나타내는 것이 아니라 단순히 범주를 표시\n",
    "    순서형 (ordinal data)\n",
    "        값들 사이에 분명한 순위가 있음\n",
    "        대부분 수치형 자료를 그룹화 하여 순서형 자료로 바꿈\n",
    "수치형 (numerical data)\n",
    "    이산형 (discrete data)\n",
    "        셀 수 있는 형태의 자료\n",
    "    연속형 (continuous data)\n",
    "        등간형 (interval)\n",
    "            비교할 수 있도록 단위가 정해진 경우 +, -만 가능\n",
    "        비율형 (ratio)\n",
    "            0이 없음을 의미하는 경우 (절대 0점), 사칙연산 가능\n",
    "</pre>\n",
    "\n"
   ]
  },
  {
   "cell_type": "markdown",
   "metadata": {},
   "source": [
    "## 통계 용어\n",
    "- 모집단 (population) : 통계분석 방법을 적용할 관심 대상의 전체 집합\n",
    "- 모수 (parameters) : 모집단을 분석하여 얻어지는 결과 수치\n",
    "- 표본 (sample): 직접적인 조사 대상이 된 모집단의 일부\n",
    "- 통계량 (statistics): 표본을 분석하여 얻어지는 결과 수치"
   ]
  },
  {
   "cell_type": "markdown",
   "metadata": {},
   "source": [
    "## 가설검정 (Hypothesis test)\n",
    "- 귀무가설 (null hypothesis, H0): 우연 때문이라는 가설 (유의어: 영가설)\n",
    "- 대립가설 (alternative hypothesis, H1): 귀무가설과의 대조 (증명하고자 하는 가설)\n",
    "- 일원검정 (one-way test) : 한 방향으로만 우연히 일어날 확률을 계산하는 가설검정\n",
    "- 이원검정 (two-way test) : 양방향으로 우연히 일어날 확률을 계산하는 가설검정"
   ]
  },
  {
   "cell_type": "markdown",
   "metadata": {},
   "source": [
    "# 그리스 문자\n",
    "\n",
    "| 알파벳 대문자 | 알파벳 소문자 | 영어 표기법 | 한글 표기법 | 주의점 |\n",
    "|-|-|-|-|-|\n",
    "| $\\Huge A$ | $\\Huge \\alpha$ | alpha | 알파 | 영어 a와 다르므로 주의 |\n",
    "| $\\Huge B$ | $\\Huge \\beta$ | beta | 베타 | 영어 b와 다르므로 주의 | \n",
    "| $\\Huge \\Gamma$ | $\\Huge \\gamma$ | gamma | 감마 | 영어 r과 다르므로 주의  |\n",
    "| $\\Huge \\Delta$ | $\\Huge \\delta$ | delta | 델타 |   |\n",
    "| $\\Huge E$ | $\\Huge \\epsilon$ | epsilon | 엡실론 | 영어 e와 다르므로 주의  |\n",
    "| $\\Huge Z$ | $\\Huge \\zeta$ | zeta | 제타 |  |\n",
    "| $\\Huge H$ | $\\Huge \\eta$ | eta | 에타 |  |\n",
    "| $\\Huge \\Theta$ | $\\Huge \\theta$ | theta | 쎄타 |  |\n",
    "| $\\Huge K$ | $\\Huge \\kappa$ | kappa | 카파 | 영어 k와 다르므로 주의 |\n",
    "| $\\Huge \\Lambda$ | $\\Huge \\lambda$ | lambda | 람다 |  |\n",
    "| $\\Huge M$ | $\\Huge \\mu$ | mu | 뮤 |  |\n",
    "| $\\Huge N$ | $\\Huge \\nu$ | nu | 누 | 영어 v와 다르므로 주의 |\n",
    "| $\\Huge \\Xi$ | $\\Huge \\xi$ | xi | 크싸이 |  |\n",
    "| $\\Huge \\Pi$ | $\\Huge \\pi$ | pi | 파이 |  |\n",
    "| $\\Huge P$ | $\\Huge \\rho$ | rho | 로 |  영어 p와 다르므로 주의 |\n",
    "| $\\Huge \\Sigma$ | $\\Huge \\sigma$ | sigma | 시그마 | 숫자 6과 다르므로 주의 |\n",
    "| $\\Huge T$ | $\\Huge \\tau$ | tau | 타우 | 영어 t와 다르므로 주의 |\n",
    "| $\\Huge \\Phi$ | $\\Huge \\phi$ | phi | 파이/피 |  |\n",
    "| $\\Huge X$ | $\\Huge \\chi$ | chi | 카이 | 영어 x와 다르므로 주의 |\n",
    "| $\\Huge \\Psi$ | $\\Huge \\psi$ | psi | 프사이 |  |\n",
    "| $\\Huge \\Omega$ | $\\Huge \\omega$ | omega | 오메가 | 영어 w와 다르므로 주의 |\n"
   ]
  },
  {
   "cell_type": "markdown",
   "metadata": {},
   "source": [
    "Random Variables\n",
    "\n",
    "The concept of random variables forms the cornerstone of many statistical concepts. It might be hard to digest its formal mathematical definition but simply put, a random variable is a way to map the outcomes of random processes, such as flipping a coin or rolling a dice, to numbers. For instance, we can define the random process of flipping a coin by random variable X which takes a value 1 if the outcome if heads and 0 if the outcome is tails.\n",
    "\n",
    "In this example, we have a random process of flipping a coin where this experiment can produce two possible outcomes: {0,1}. This set of all possible outcomes is called the sample space of the experiment. Each time the random process is repeated, it is referred to as an event. In this example, flipping a coin and getting a tail as an outcome is an event. The chance or the likelihood of this event occurring with a particular outcome is called the probability of that event. A probability of an event is the likelihood that a random variable takes a specific value of x which can be described by P(x). In the example of flipping a coin, the likelihood of getting heads or tails is the same, that is 0.5 or 50%. So we have the following setting:"
   ]
  },
  {
   "cell_type": "code",
   "execution_count": null,
   "metadata": {},
   "outputs": [],
   "source": []
  },
  {
   "cell_type": "markdown",
   "metadata": {},
   "source": [
    "# 모수적, 비모수적\n",
    "## 모수적 방법 (parametric)\n",
    "\n",
    "어떤 대상의 표본을 뽑아서 실험을 하게 되면 중요한 지표가 나오게 되는데, 그것이 평균, 표준편차, 분산이다.\n",
    "\n",
    "그런데 중심 극한 정리에 의해서 일정 수 이상(보통 30개)의 표본은 모집단의 분포가 연속형이든, 이산형이든, 한쪽으로 치우졌든 표본평균의 분포는 정규본포에 근접하게 된다.\n",
    "\n",
    "따라서 두 표본이 정규분포를 띈다고 가정한다면 이를 바탕으로 평균, 표준편차 비교등을 통해 집단간 차이를 밝혀낼 수 있다.\n",
    "\n",
    "이렇듯 정규성을 갖는다는 모수적 특징을 이용하는 통계적 방법이 모수적 방법이다.\n",
    "\n",
    "등간척도와 비율척도로 측정된 자료를 분석한다.\n",
    "\n",
    "\n",
    "결론적으로 모수적 방법은 관측값이 어느 특정한 확률분포를 따른다고 전제후에 검정을 실시하는 방법이다.\n",
    "\n",
    "검정력이 크다.\n",
    "\n",
    "\n",
    "## 비모수적 방법 (non-parametric)\n",
    "\n",
    "비모수적 방법은\n",
    "\n",
    "1) 정규성 검정에서 정규분포를 따르지 않는다고 증명되거나\n",
    "\n",
    "2) 표본의 수가 적어 정규분포를 가정할 수 없는 경우\n",
    "\n",
    "3) 모집단에 대한 아무런 정보가 없는 경우\n",
    "\n",
    "등에 하는 통계적 기법이다. \n",
    "\n",
    "\n",
    "정규분포를 가정하지 않기 때문에 평균, 표준편차, 분산이 없고 그로 인한 평균값의 차이, 신뢰구간을 얻을 수 없다. \n",
    "\n",
    "따라서 해석이 복잡해 진다.\n",
    "\n",
    "실제 값을 이용하기 보다 부호나 순위등의 형태를 히용하는 경우가 많다. \n",
    "\n",
    "명목척도와 순서척도로 측정된 자료를 분석한다."
   ]
  },
  {
   "cell_type": "code",
   "execution_count": null,
   "metadata": {},
   "outputs": [],
   "source": []
  }
 ],
 "metadata": {
  "kernelspec": {
   "display_name": "Python 3",
   "language": "python",
   "name": "python3"
  },
  "language_info": {
   "codemirror_mode": {
    "name": "ipython",
    "version": 3
   },
   "file_extension": ".py",
   "mimetype": "text/x-python",
   "name": "python",
   "nbconvert_exporter": "python",
   "pygments_lexer": "ipython3",
   "version": "3.8.8"
  },
  "toc-autonumbering": false
 },
 "nbformat": 4,
 "nbformat_minor": 4
}
