{
 "cells": [
  {
   "cell_type": "markdown",
   "metadata": {},
   "source": [
    "# 기본 용어"
   ]
  },
  {
   "cell_type": "markdown",
   "metadata": {},
   "source": [
    "## 변수의 타입\n",
    "<pre>\n",
    "범주형 (categorical data)\n",
    "    명목형 (nominal data)\n",
    "        숫자로 바뀌어도 그 값이 크고 작음을 나타내는 것이 아니라 단순히 범주를 표시\n",
    "    순서형 (ordinal data)\n",
    "        범주의 순서가 상대적으로 비교 가능\n",
    "        대부분 수치형 자료를 그룹화 하여 순서형 자료로 바꿈\n",
    "수치형 (numerical data)\n",
    "    이산형 (discrete data)\n",
    "        셀 수 있는 형태의 자료\n",
    "    연속형 (continuous data)\n",
    "        등간형 (interval)\n",
    "            비교할 수 있도록 단위가 정해진 경우 +, -만 가능\n",
    "        비율형 (ratio)\n",
    "            0이 없음을 의미하는 경우 (절대 0점), 사칙연산 가능\n",
    "</pre>\n",
    "\n"
   ]
  },
  {
   "cell_type": "code",
   "execution_count": null,
   "metadata": {},
   "outputs": [],
   "source": []
  }
 ],
 "metadata": {
  "kernelspec": {
   "display_name": "Python 3",
   "language": "python",
   "name": "python3"
  },
  "language_info": {
   "codemirror_mode": {
    "name": "ipython",
    "version": 3
   },
   "file_extension": ".py",
   "mimetype": "text/x-python",
   "name": "python",
   "nbconvert_exporter": "python",
   "pygments_lexer": "ipython3",
   "version": "3.8.8"
  },
  "toc-autonumbering": false
 },
 "nbformat": 4,
 "nbformat_minor": 4
}
