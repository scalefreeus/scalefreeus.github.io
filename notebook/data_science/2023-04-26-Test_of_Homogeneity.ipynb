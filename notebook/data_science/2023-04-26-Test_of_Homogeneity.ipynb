{
 "cells": [
  {
   "cell_type": "markdown",
   "id": "1feda810-05f5-4b44-83a0-8ed66645dfb6",
   "metadata": {},
   "source": [
    "# 동질성 검정(Test of Homogeneity)"
   ]
  },
  {
   "cell_type": "markdown",
   "id": "e3317528-567b-4cd7-95ca-8f9cc6663029",
   "metadata": {},
   "source": [
    "https://m.blog.naver.com/gksshdk8003/221909306431"
   ]
  },
  {
   "cell_type": "code",
   "execution_count": null,
   "id": "70fd6aa6-39a5-4965-9187-2b2bcff2c14e",
   "metadata": {},
   "outputs": [],
   "source": []
  },
  {
   "cell_type": "code",
   "execution_count": null,
   "id": "708e285b-b7f1-4dc7-8033-4065fcf83385",
   "metadata": {},
   "outputs": [],
   "source": []
  },
  {
   "cell_type": "code",
   "execution_count": null,
   "id": "7ecd7cdc-05ba-48ed-997d-8f71bcd0033e",
   "metadata": {},
   "outputs": [],
   "source": []
  }
 ],
 "metadata": {
  "kernelspec": {
   "display_name": "Python 3 (ipykernel)",
   "language": "python",
   "name": "python3"
  },
  "language_info": {
   "codemirror_mode": {
    "name": "ipython",
    "version": 3
   },
   "file_extension": ".py",
   "mimetype": "text/x-python",
   "name": "python",
   "nbconvert_exporter": "python",
   "pygments_lexer": "ipython3",
   "version": "3.10.11"
  }
 },
 "nbformat": 4,
 "nbformat_minor": 5
}
